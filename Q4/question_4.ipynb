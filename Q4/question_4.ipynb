{
 "cells": [
  {
   "cell_type": "markdown",
   "metadata": {
    "id": "vdWKrPFPk-Ot"
   },
   "source": [
    "get_cluster_at_x_y(matrix, target_matrix, cluster, x, y, max_x, max_y): recursively check the existence of a cluster by using 4-connectivity\n",
    "\n"
   ]
  },
  {
   "cell_type": "code",
   "execution_count": 4,
   "metadata": {
    "id": "8AFmWZFAwjw6"
   },
   "outputs": [],
   "source": [
    "def get_cluster_at_x_y(matrix, target_matrix, cluster, x, y, max_x, max_y):\n",
    "    if matrix[x][y] != 0 and target_matrix[x][y] == 0:\n",
    "        target_matrix[x][y] = cluster\n",
    "        # at top left, check left and down\n",
    "        if x == 0 and y == 0:\n",
    "            get_cluster_at_x_y(matrix, target_matrix, cluster, x + 1, y, max_x, max_y)\n",
    "            get_cluster_at_x_y(matrix, target_matrix, cluster, x, y + 1, max_x, max_y)\n",
    "        # at middle of first column, check right, up and down\n",
    "        elif x == 0 and y > 0 and y < max_y:\n",
    "            get_cluster_at_x_y(matrix, target_matrix, cluster, x + 1, y, max_x, max_y)\n",
    "            get_cluster_at_x_y(matrix, target_matrix, cluster, x, y - 1, max_x, max_y)\n",
    "            get_cluster_at_x_y(matrix, target_matrix, cluster, x, y + 1, max_x, max_y)\n",
    "        # at bottom left, check right and up\n",
    "        elif x == 0 and y == max_y:\n",
    "            get_cluster_at_x_y(matrix, target_matrix, cluster, x + 1, y, max_x, max_y)\n",
    "            get_cluster_at_x_y(matrix, target_matrix, cluster, x, y - 1, max_x, max_y)\n",
    "        # at last row, check left, right and up\n",
    "        elif x > 0 and x < max_x and y == max_y:\n",
    "            get_cluster_at_x_y(matrix, target_matrix, cluster, x - 1, y, max_x, max_y)\n",
    "            get_cluster_at_x_y(matrix, target_matrix, cluster, x + 1, y, max_x, max_y)\n",
    "            get_cluster_at_x_y(matrix, target_matrix, cluster, x, y - 1, max_x, max_y)\n",
    "        # at bottom right, check left and up\n",
    "        elif x == max_x and y == max_y:\n",
    "            get_cluster_at_x_y(matrix, target_matrix, cluster, x - 1, y, max_x, max_y)\n",
    "            get_cluster_at_x_y(matrix, target_matrix, cluster, x, y - 1, max_x, max_y)\n",
    "        # at middle of last column, check left, up and down\n",
    "        elif x == max_x and y > 0 and y < max_y:\n",
    "            get_cluster_at_x_y(matrix, target_matrix, cluster, x - 1, y, max_x, max_y)\n",
    "            get_cluster_at_x_y(matrix, target_matrix, cluster, x, y - 1, max_x, max_y)\n",
    "            get_cluster_at_x_y(matrix, target_matrix, cluster, x, y + 1, max_x, max_y)\n",
    "        # at top right, check left and down\n",
    "        elif x == max_x and y == 0:\n",
    "            get_cluster_at_x_y(matrix, target_matrix, cluster, x - 1, y, max_x, max_y)\n",
    "            get_cluster_at_x_y(matrix, target_matrix, cluster, x, y + 1, max_x, max_y)\n",
    "        # at middle of first row, check left, right and down\n",
    "        elif x > 0 and x < max_x and y == 0:\n",
    "            get_cluster_at_x_y(matrix, target_matrix, cluster, x - 1, y, max_x, max_y)\n",
    "            get_cluster_at_x_y(matrix, target_matrix, cluster, x + 1, y, max_x, max_y)\n",
    "            get_cluster_at_x_y(matrix, target_matrix, cluster, x, y + 1, max_x, max_y)\n",
    "        # at middle of the matrix, check all 4-connectivity neighbors\n",
    "        else:\n",
    "            get_cluster_at_x_y(matrix, target_matrix, cluster, x - 1, y, max_x, max_y)\n",
    "            get_cluster_at_x_y(matrix, target_matrix, cluster, x + 1, y, max_x, max_y)\n",
    "            get_cluster_at_x_y(matrix, target_matrix, cluster, x, y - 1, max_x, max_y)\n",
    "            get_cluster_at_x_y(matrix, target_matrix, cluster, x, y + 1, max_x, max_y)\n"
   ]
  },
  {
   "cell_type": "code",
   "execution_count": 5,
   "metadata": {
    "colab": {
     "base_uri": "https://localhost:8080/"
    },
    "id": "IGdtzi5DcAGt",
    "outputId": "e8318488-55d5-4a6a-9b64-32cdfa9a0587"
   },
   "outputs": [],
   "source": [
    "matrix = []\n",
    "f = open(\"input_data/input_question_4\", \"r\")\n",
    "for line in f.readlines():\n",
    "    dim = []\n",
    "    params = line.strip().split(\"\\t\")\n",
    "    for i in range(len(params)):\n",
    "        dim.append(int(params[i]))\n",
    "    matrix.append(dim)\n",
    "f.close()\n",
    "\n",
    "dim = [0, 0, 0, 0, 0, 0, 0, 0, 0, 0, 0, 0, 0, 0, 0, 0, 0, 0, 0, 0]\n",
    "target_matrix = []\n",
    "for i in range(10):\n",
    "    target_matrix.append(dim.copy())\n",
    "cluster = 1\n",
    "max_x = len(matrix)\n",
    "max_y = len(matrix[0])\n",
    "for i in range(max_x):\n",
    "    for j in range(max_y):\n",
    "        if matrix[i][j] != 0 and target_matrix[i][j] == 0:\n",
    "            get_cluster_at_x_y(matrix, target_matrix, cluster, i, j, max_x - 1, max_y - 1)\n",
    "            cluster += 1\n",
    "\n",
    "f = open(\"output_data/output_question_4\", \"w\")\n",
    "for i in range(max_x):\n",
    "    s = \"\"\n",
    "    for j in range(max_y):\n",
    "        s += str(target_matrix[i][j])\n",
    "        s += \" \"\n",
    "    s += \"\\n\"\n",
    "    f.write(s)\n",
    "f.close()\n"
   ]
  }
 ],
 "metadata": {
  "colab": {
   "name": "question_4.ipynb",
   "provenance": []
  },
  "kernelspec": {
   "display_name": "Python 3",
   "language": "python",
   "name": "python3"
  },
  "language_info": {
   "codemirror_mode": {
    "name": "ipython",
    "version": 3
   },
   "file_extension": ".py",
   "mimetype": "text/x-python",
   "name": "python",
   "nbconvert_exporter": "python",
   "pygments_lexer": "ipython3",
   "version": "3.8.3"
  }
 },
 "nbformat": 4,
 "nbformat_minor": 1
}
